{
 "cells": [
  {
   "cell_type": "markdown",
   "id": "56390901",
   "metadata": {},
   "source": [
    "### DAGMM on KDDCupRev"
   ]
  },
  {
   "cell_type": "markdown",
   "id": "712e7ec6",
   "metadata": {},
   "source": [
    "This notebook trains **DAGMM** with **Gaussian / Laplace / Student‑t** mixture components on the **KDDCupRev** dataset.\n",
    "You can switch the mixture distribution with the `dist_type` parameter below (`'gaussian'|'laplace'|'student_t'`)."
   ]
  },
  {
   "cell_type": "code",
   "execution_count": 1,
   "id": "5e50bc7b",
   "metadata": {},
   "outputs": [],
   "source": [
    "## If you haven't installed the repo dependencies in this environment, uncomment and run:\n",
    "# !pip install -r requirements.txt\n",
    "# !pip install torch torchvision torchaudio --extra-index-url https://download.pytorch.org/whl/cpu"
   ]
  },
  {
   "cell_type": "code",
   "execution_count": 2,
   "id": "c79ac9f1",
   "metadata": {},
   "outputs": [],
   "source": [
    "import os, sys, json, torch\n",
    "from pathlib import Path\n",
    "# Assuming this notebook lives inside the repo root; otherwise adjust:\n",
    "sys.path.append(str(Path().resolve()))\n",
    "from kddcup_rev import KDDCupRevLoader\n",
    "from model import DaGMM\n",
    "from solver import Solver"
   ]
  },
  {
   "cell_type": "code",
   "execution_count": 3,
   "id": "d594cbfa",
   "metadata": {},
   "outputs": [],
   "source": [
    "# ==== Configuration ====\n",
    "data_path = 'kddcup.data_10_percent'   # change if your dataset lives elsewhere\n",
    "dist_type = 'gaussian'   # 'gaussian' | 'laplace' | 'student_t'\n",
    "student_nu = 4.0         # only used if dist_type == 'student_t'\n",
    "mode = 'train'           # 'train' or 'test'\n",
    "\n",
    "# Training params\n",
    "batch_size = 1024  # adjust per dataset size\n",
    "num_epochs = 100\n",
    "lr = 1e-4\n",
    "gmm_k = 4\n",
    "lambda_energy = 0.1\n",
    "lambda_cov_diag = 0.005"
   ]
  },
  {
   "cell_type": "code",
   "execution_count": 4,
   "id": "2dd96828",
   "metadata": {},
   "outputs": [
    {
     "name": "stdout",
     "output_type": "stream",
     "text": [
      "Train set size: 48639\n",
      "Test set size : 72958\n"
     ]
    }
   ],
   "source": [
    "# ==== Data loader ====\n",
    "dataset = KDDCupRevLoader(data_path, mode=mode)\n",
    "from torch.utils.data import DataLoader\n",
    "data_loader = DataLoader(dataset, batch_size=batch_size, shuffle=(mode=='train'))\n",
    "print(f'Train set size: {len(dataset.train) if mode==\"train\" else \"N/A\"}')\n",
    "print(f'Test set size : {len(dataset.test) if mode==\"test\" else len(dataset.test)}')"
   ]
  },
  {
   "cell_type": "code",
   "execution_count": 5,
   "id": "2d4679b9",
   "metadata": {},
   "outputs": [],
   "source": [
    "# ==== Initialize model & solver ====\n",
    "config = {\n",
    "    'lr': lr,\n",
    "    'num_epochs': num_epochs,\n",
    "    'batch_size': batch_size,\n",
    "    'gmm_k': gmm_k,\n",
    "    'lambda_energy': lambda_energy,\n",
    "    'lambda_cov_diag': lambda_cov_diag,\n",
    "    'dist_type': dist_type,\n",
    "    'student_nu': student_nu,\n",
    "    'model_save_path': './models',\n",
    "    'input_dim': 118\n",
    "}\n",
    "solver = Solver(data_loader, config)\n",
    "# Adjust input/output dimensions automatically (118 features after one‑hot encoding)\n",
    "input_dim = dataset.train.shape[1] if mode=='train' else dataset.test.shape[1]\n",
    "solver.dagmm.encoder[0] = torch.nn.Linear(input_dim, solver.dagmm.encoder[0].out_features)\n",
    "solver.dagmm.decoder[-1] = torch.nn.Linear(solver.dagmm.decoder[-1].in_features, input_dim)"
   ]
  },
  {
   "cell_type": "code",
   "execution_count": 6,
   "id": "a644fe89",
   "metadata": {},
   "outputs": [
    {
     "name": "stderr",
     "output_type": "stream",
     "text": [
      "100%|██████████| 48/48 [00:01<00:00, 46.53it/s]\n",
      "100%|██████████| 48/48 [00:00<00:00, 70.39it/s]\n",
      "100%|██████████| 48/48 [00:00<00:00, 75.87it/s]\n",
      "100%|██████████| 48/48 [00:00<00:00, 74.92it/s]\n",
      "100%|██████████| 48/48 [00:00<00:00, 84.51it/s]\n",
      "100%|██████████| 48/48 [00:00<00:00, 86.13it/s]\n",
      "100%|██████████| 48/48 [00:00<00:00, 85.86it/s]\n",
      "100%|██████████| 48/48 [00:00<00:00, 72.27it/s]\n",
      "100%|██████████| 48/48 [00:00<00:00, 76.52it/s]\n",
      "100%|██████████| 48/48 [00:00<00:00, 87.31it/s]\n",
      "100%|██████████| 48/48 [00:00<00:00, 75.34it/s]\n",
      "100%|██████████| 48/48 [00:00<00:00, 87.03it/s]\n",
      "100%|██████████| 48/48 [00:00<00:00, 77.48it/s]\n",
      "100%|██████████| 48/48 [00:00<00:00, 82.10it/s]\n",
      "100%|██████████| 48/48 [00:00<00:00, 84.67it/s]\n",
      "100%|██████████| 48/48 [00:00<00:00, 85.52it/s]\n",
      "100%|██████████| 48/48 [00:00<00:00, 86.04it/s]\n",
      "100%|██████████| 48/48 [00:00<00:00, 84.67it/s]\n",
      "100%|██████████| 48/48 [00:00<00:00, 87.59it/s]\n",
      "100%|██████████| 48/48 [00:00<00:00, 76.15it/s]\n",
      "100%|██████████| 48/48 [00:00<00:00, 76.37it/s]\n",
      "100%|██████████| 48/48 [00:00<00:00, 69.00it/s]\n",
      "100%|██████████| 48/48 [00:00<00:00, 81.27it/s]\n",
      "100%|██████████| 48/48 [00:00<00:00, 71.29it/s]\n",
      "100%|██████████| 48/48 [00:00<00:00, 78.24it/s]\n",
      "100%|██████████| 48/48 [00:00<00:00, 76.15it/s]\n",
      "100%|██████████| 48/48 [00:00<00:00, 64.04it/s]\n",
      "100%|██████████| 48/48 [00:00<00:00, 80.15it/s]\n",
      "100%|██████████| 48/48 [00:00<00:00, 76.45it/s]\n",
      "100%|██████████| 48/48 [00:00<00:00, 77.87it/s]\n",
      "100%|██████████| 48/48 [00:00<00:00, 71.64it/s]\n",
      "100%|██████████| 48/48 [00:00<00:00, 81.79it/s]\n",
      "100%|██████████| 48/48 [00:00<00:00, 82.32it/s]\n",
      "100%|██████████| 48/48 [00:00<00:00, 80.22it/s]\n",
      "100%|██████████| 48/48 [00:00<00:00, 77.23it/s]\n",
      "100%|██████████| 48/48 [00:00<00:00, 83.11it/s]\n",
      "100%|██████████| 48/48 [00:00<00:00, 68.80it/s]\n",
      "100%|██████████| 48/48 [00:00<00:00, 59.27it/s]\n",
      "100%|██████████| 48/48 [00:00<00:00, 71.75it/s]\n",
      "100%|██████████| 48/48 [00:00<00:00, 82.37it/s]\n",
      "100%|██████████| 48/48 [00:00<00:00, 85.78it/s]\n",
      "100%|██████████| 48/48 [00:00<00:00, 85.31it/s]\n",
      "100%|██████████| 48/48 [00:00<00:00, 86.35it/s]\n",
      "100%|██████████| 48/48 [00:00<00:00, 86.08it/s]\n",
      "100%|██████████| 48/48 [00:00<00:00, 84.63it/s]\n",
      "100%|██████████| 48/48 [00:00<00:00, 84.33it/s]\n",
      "100%|██████████| 48/48 [00:00<00:00, 87.23it/s]\n",
      "100%|██████████| 48/48 [00:00<00:00, 80.47it/s]\n",
      "100%|██████████| 48/48 [00:00<00:00, 88.51it/s]\n",
      "100%|██████████| 48/48 [00:00<00:00, 87.60it/s]\n",
      "100%|██████████| 48/48 [00:00<00:00, 79.15it/s]\n",
      "100%|██████████| 48/48 [00:00<00:00, 88.88it/s]\n",
      "100%|██████████| 48/48 [00:00<00:00, 84.75it/s]\n",
      "100%|██████████| 48/48 [00:00<00:00, 87.78it/s]\n",
      "100%|██████████| 48/48 [00:00<00:00, 81.73it/s]\n",
      "100%|██████████| 48/48 [00:00<00:00, 77.85it/s]\n",
      "100%|██████████| 48/48 [00:00<00:00, 85.12it/s]\n",
      "100%|██████████| 48/48 [00:00<00:00, 76.80it/s]\n",
      "100%|██████████| 48/48 [00:00<00:00, 81.78it/s]\n",
      "100%|██████████| 48/48 [00:00<00:00, 81.00it/s]\n",
      "100%|██████████| 48/48 [00:00<00:00, 74.94it/s]\n",
      "100%|██████████| 48/48 [00:00<00:00, 85.47it/s]\n",
      "100%|██████████| 48/48 [00:00<00:00, 85.25it/s]\n",
      "100%|██████████| 48/48 [00:00<00:00, 75.27it/s]\n",
      "100%|██████████| 48/48 [00:00<00:00, 85.68it/s]\n",
      "100%|██████████| 48/48 [00:00<00:00, 75.29it/s]\n",
      "100%|██████████| 48/48 [00:00<00:00, 81.95it/s]\n",
      "100%|██████████| 48/48 [00:00<00:00, 81.42it/s]\n",
      "100%|██████████| 48/48 [00:00<00:00, 82.42it/s]\n",
      "100%|██████████| 48/48 [00:00<00:00, 78.77it/s]\n",
      "100%|██████████| 48/48 [00:00<00:00, 80.28it/s]\n",
      "100%|██████████| 48/48 [00:00<00:00, 76.08it/s]\n",
      "100%|██████████| 48/48 [00:00<00:00, 73.04it/s]\n",
      "100%|██████████| 48/48 [00:00<00:00, 76.86it/s]\n",
      "100%|██████████| 48/48 [00:00<00:00, 78.62it/s]\n",
      "100%|██████████| 48/48 [00:00<00:00, 78.68it/s]\n",
      "100%|██████████| 48/48 [00:00<00:00, 74.89it/s]\n",
      "100%|██████████| 48/48 [00:00<00:00, 76.49it/s]\n",
      "100%|██████████| 48/48 [00:00<00:00, 73.67it/s]\n",
      "100%|██████████| 48/48 [00:00<00:00, 50.36it/s]\n",
      "100%|██████████| 48/48 [00:00<00:00, 78.01it/s]\n",
      "100%|██████████| 48/48 [00:00<00:00, 77.75it/s]\n",
      "100%|██████████| 48/48 [00:00<00:00, 77.75it/s]\n",
      "100%|██████████| 48/48 [00:00<00:00, 62.26it/s]\n",
      "100%|██████████| 48/48 [00:00<00:00, 78.02it/s]\n",
      "100%|██████████| 48/48 [00:00<00:00, 74.67it/s]\n",
      "100%|██████████| 48/48 [00:00<00:00, 77.10it/s]\n",
      "100%|██████████| 48/48 [00:00<00:00, 78.25it/s]\n",
      "100%|██████████| 48/48 [00:00<00:00, 77.44it/s]\n",
      "100%|██████████| 48/48 [00:00<00:00, 76.98it/s]\n",
      "100%|██████████| 48/48 [00:00<00:00, 79.87it/s]\n",
      "100%|██████████| 48/48 [00:00<00:00, 78.63it/s]\n",
      "100%|██████████| 48/48 [00:00<00:00, 76.92it/s]\n",
      "100%|██████████| 48/48 [00:00<00:00, 73.95it/s]\n",
      "100%|██████████| 48/48 [00:00<00:00, 69.80it/s]\n",
      "100%|██████████| 48/48 [00:00<00:00, 76.95it/s]\n",
      "100%|██████████| 48/48 [00:00<00:00, 78.64it/s]\n",
      "100%|██████████| 48/48 [00:00<00:00, 77.67it/s]\n",
      "100%|██████████| 48/48 [00:00<00:00, 78.20it/s]\n",
      "100%|██████████| 48/48 [00:00<00:00, 76.37it/s]\n"
     ]
    }
   ],
   "source": [
    "# ==== Train or Test ====\n",
    "if mode == 'train':\n",
    "    solver.train()\n",
    "else:\n",
    "    solver.test()"
   ]
  },
  {
   "cell_type": "code",
   "execution_count": 7,
   "id": "ab716efd",
   "metadata": {},
   "outputs": [
    {
     "name": "stdout",
     "output_type": "stream",
     "text": [
      "Results for gaussian distribution:\n",
      "Threshold : -1.4645147323608398\n",
      "Accuracy : 0.6655, Precision : 0.4972, Recall : 0.3112, F-score : 0.3828\n"
     ]
    },
    {
     "data": {
      "text/plain": [
       "(0.6655061816387511,\n",
       " 0.4972078050062414,\n",
       " 0.31119700645585757,\n",
       " 0.3828022255943349)"
      ]
     },
     "execution_count": 7,
     "metadata": {},
     "output_type": "execute_result"
    }
   ],
   "source": [
    "print(f\"Results for {dist_type} distribution:\")\n",
    "solver.test()"
   ]
  }
 ],
 "metadata": {
  "kernelspec": {
   "display_name": "Python 3",
   "language": "python",
   "name": "python3"
  },
  "language_info": {
   "codemirror_mode": {
    "name": "ipython",
    "version": 3
   },
   "file_extension": ".py",
   "mimetype": "text/x-python",
   "name": "python",
   "nbconvert_exporter": "python",
   "pygments_lexer": "ipython3",
   "version": "3.10.6"
  }
 },
 "nbformat": 4,
 "nbformat_minor": 5
}
