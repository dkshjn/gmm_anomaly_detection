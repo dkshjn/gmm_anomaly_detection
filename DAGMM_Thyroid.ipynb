{
 "cells": [
  {
   "cell_type": "markdown",
   "id": "be1425a9",
   "metadata": {},
   "source": [
    "### DAGMM on Thyroid"
   ]
  },
  {
   "cell_type": "markdown",
   "id": "c32d0881",
   "metadata": {},
   "source": [
    "This notebook trains **DAGMM** with **Gaussian / Laplace / Student‑t** mixture components on the **Thyroid** dataset.\n",
    "You can switch the mixture distribution with the `dist_type` parameter below (`'gaussian'|'laplace'|'student_t'`)."
   ]
  },
  {
   "cell_type": "code",
   "execution_count": 1,
   "id": "ab7380da",
   "metadata": {},
   "outputs": [],
   "source": [
    "## If you haven't installed the repo dependencies in this environment, uncomment and run:\n",
    "# !pip install -r requirements.txt\n",
    "# !pip install torch torchvision torchaudio --extra-index-url https://download.pytorch.org/whl/cpu"
   ]
  },
  {
   "cell_type": "code",
   "execution_count": 2,
   "id": "68d4d653",
   "metadata": {},
   "outputs": [],
   "source": [
    "import os, sys, json, torch\n",
    "from pathlib import Path\n",
    "# Assuming this notebook lives inside the repo root; otherwise adjust:\n",
    "sys.path.append(str(Path().resolve()))\n",
    "from thyroid import ThyroidLoader\n",
    "from model import DaGMM\n",
    "from solver import Solver"
   ]
  },
  {
   "cell_type": "code",
   "execution_count": null,
   "id": "cc3d90e9",
   "metadata": {},
   "outputs": [],
   "source": [
    "# ==== Configuration ====\n",
    "data_path = 'ann-train.data'   # change if your dataset lives elsewhere\n",
    "dist_type = 'gaussian'   # 'gaussian' | 'laplace' | 'student_t'\n",
    "student_nu = 4.0         # only used if dist_type == 'student_t'\n",
    "mode = 'train'           # 'train' or 'test'\n",
    "\n",
    "# Training params\n",
    "batch_size = 1024  # adjust per dataset size\n",
    "num_epochs = 100\n",
    "lr = 1e-4\n",
    "gmm_k = 4\n",
    "lambda_energy = 0.1\n",
    "lambda_cov_diag = 0.005"
   ]
  },
  {
   "cell_type": "code",
   "execution_count": 4,
   "id": "38365d43",
   "metadata": {},
   "outputs": [
    {
     "name": "stdout",
     "output_type": "stream",
     "text": [
      "Train set size: 1839\n",
      "Test set size : 1933\n"
     ]
    },
    {
     "name": "stderr",
     "output_type": "stream",
     "text": [
      "/Users/dj/Downloads/daksh_dagmm 2/dagmm/thyroid.py:11: FutureWarning: The 'delim_whitespace' keyword in pd.read_csv is deprecated and will be removed in a future version. Use ``sep='\\s+'`` instead\n",
      "  data = pd.read_csv(data_path, delim_whitespace=True, header=None)\n"
     ]
    }
   ],
   "source": [
    "# ==== Data loader ====\n",
    "dataset = ThyroidLoader(data_path, mode=mode)\n",
    "from torch.utils.data import DataLoader\n",
    "data_loader = DataLoader(dataset, batch_size=batch_size, shuffle=(mode=='train'))\n",
    "print(f'Train set size: {len(dataset.train) if mode==\"train\" else \"N/A\"}')\n",
    "print(f'Test set size : {len(dataset.test) if mode==\"test\" else len(dataset.test)}')"
   ]
  },
  {
   "cell_type": "code",
   "execution_count": 5,
   "id": "9d7ceba4",
   "metadata": {},
   "outputs": [],
   "source": [
    "# ==== Initialize model & solver ====\n",
    "config = {\n",
    "    'lr': lr,\n",
    "    'num_epochs': num_epochs,\n",
    "    'batch_size': batch_size,\n",
    "    'gmm_k': gmm_k,\n",
    "    'lambda_energy': lambda_energy,\n",
    "    'lambda_cov_diag': lambda_cov_diag,\n",
    "    'dist_type': dist_type,\n",
    "    'student_nu': student_nu,\n",
    "    'model_save_path': './models',\n",
    "    'input_dim': 5\n",
    "}\n",
    "solver = Solver(data_loader, config)\n",
    "# Adjust input/output dimensions automatically (21 raw features (15 binary + 6 continuous))\n",
    "input_dim = dataset.train.shape[1] if mode=='train' else dataset.test.shape[1]\n",
    "solver.dagmm.encoder[0] = torch.nn.Linear(input_dim, solver.dagmm.encoder[0].out_features)\n",
    "solver.dagmm.decoder[-1] = torch.nn.Linear(solver.dagmm.decoder[-1].in_features, input_dim)"
   ]
  },
  {
   "cell_type": "code",
   "execution_count": 6,
   "id": "5046ba70",
   "metadata": {},
   "outputs": [
    {
     "name": "stderr",
     "output_type": "stream",
     "text": [
      "100%|██████████| 2/2 [00:00<00:00,  8.58it/s]\n",
      "100%|██████████| 2/2 [00:00<00:00, 32.66it/s]\n",
      "100%|██████████| 2/2 [00:00<00:00, 17.19it/s]\n",
      "100%|██████████| 2/2 [00:00<00:00, 68.59it/s]\n",
      "100%|██████████| 2/2 [00:00<00:00, 48.19it/s]\n",
      "100%|██████████| 2/2 [00:00<00:00, 91.30it/s]\n",
      "100%|██████████| 2/2 [00:00<00:00, 66.01it/s]\n",
      "100%|██████████| 2/2 [00:00<00:00, 75.65it/s]\n",
      "100%|██████████| 2/2 [00:00<00:00, 82.70it/s]\n",
      "100%|██████████| 2/2 [00:00<00:00, 89.03it/s]\n",
      "100%|██████████| 2/2 [00:00<00:00, 83.12it/s]\n",
      "100%|██████████| 2/2 [00:00<00:00, 108.63it/s]\n",
      "100%|██████████| 2/2 [00:00<00:00, 75.72it/s]\n",
      "100%|██████████| 2/2 [00:00<00:00, 89.23it/s]\n",
      "100%|██████████| 2/2 [00:00<00:00, 78.38it/s]\n",
      "100%|██████████| 2/2 [00:00<00:00, 97.00it/s]\n",
      "100%|██████████| 2/2 [00:00<00:00, 42.60it/s]\n",
      "100%|██████████| 2/2 [00:00<00:00, 87.09it/s]\n",
      "100%|██████████| 2/2 [00:00<00:00, 58.98it/s]\n",
      "100%|██████████| 2/2 [00:00<00:00, 53.96it/s]\n",
      "100%|██████████| 2/2 [00:00<00:00, 73.58it/s]\n",
      "100%|██████████| 2/2 [00:00<00:00, 70.84it/s]\n",
      "100%|██████████| 2/2 [00:00<00:00, 93.04it/s]\n",
      "100%|██████████| 2/2 [00:00<00:00, 85.75it/s]\n",
      "100%|██████████| 2/2 [00:00<00:00, 108.54it/s]\n",
      "100%|██████████| 2/2 [00:00<00:00, 121.12it/s]\n",
      "100%|██████████| 2/2 [00:00<00:00, 84.60it/s]\n",
      "100%|██████████| 2/2 [00:00<00:00, 95.07it/s]\n",
      "100%|██████████| 2/2 [00:00<00:00, 91.40it/s]\n",
      "100%|██████████| 2/2 [00:00<00:00, 94.22it/s]\n",
      "100%|██████████| 2/2 [00:00<00:00, 57.36it/s]\n",
      "100%|██████████| 2/2 [00:00<00:00, 82.67it/s]\n",
      "100%|██████████| 2/2 [00:00<00:00, 58.77it/s]\n",
      "100%|██████████| 2/2 [00:00<00:00, 44.48it/s]\n",
      "100%|██████████| 2/2 [00:00<00:00, 72.75it/s]\n",
      "100%|██████████| 2/2 [00:00<00:00, 98.56it/s]\n",
      "100%|██████████| 2/2 [00:00<00:00, 63.13it/s]\n",
      "100%|██████████| 2/2 [00:00<00:00, 84.17it/s]\n",
      "100%|██████████| 2/2 [00:00<00:00, 59.61it/s]\n",
      "100%|██████████| 2/2 [00:00<00:00, 61.46it/s]\n",
      "100%|██████████| 2/2 [00:00<00:00, 38.22it/s]\n",
      "100%|██████████| 2/2 [00:00<00:00, 34.46it/s]\n",
      "100%|██████████| 2/2 [00:00<00:00, 52.16it/s]\n",
      "100%|██████████| 2/2 [00:00<00:00, 51.78it/s]\n",
      "100%|██████████| 2/2 [00:00<00:00, 66.97it/s]\n",
      "100%|██████████| 2/2 [00:00<00:00, 67.55it/s]\n",
      "100%|██████████| 2/2 [00:00<00:00, 95.69it/s]\n",
      "100%|██████████| 2/2 [00:00<00:00, 97.97it/s]\n",
      "100%|██████████| 2/2 [00:00<00:00, 94.72it/s]\n",
      "100%|██████████| 2/2 [00:00<00:00, 66.86it/s]\n",
      "100%|██████████| 2/2 [00:00<00:00, 62.93it/s]\n",
      "100%|██████████| 2/2 [00:00<00:00, 96.97it/s]\n",
      "100%|██████████| 2/2 [00:00<00:00, 92.12it/s]\n",
      "100%|██████████| 2/2 [00:00<00:00, 102.88it/s]\n",
      "100%|██████████| 2/2 [00:00<00:00, 105.70it/s]\n",
      "100%|██████████| 2/2 [00:00<00:00, 98.70it/s]\n",
      "100%|██████████| 2/2 [00:00<00:00, 112.35it/s]\n",
      "100%|██████████| 2/2 [00:00<00:00, 56.42it/s]\n",
      "100%|██████████| 2/2 [00:00<00:00, 117.36it/s]\n",
      "100%|██████████| 2/2 [00:00<00:00, 121.14it/s]\n",
      "100%|██████████| 2/2 [00:00<00:00, 115.08it/s]\n",
      "100%|██████████| 2/2 [00:00<00:00, 115.37it/s]\n",
      "100%|██████████| 2/2 [00:00<00:00, 120.57it/s]\n",
      "100%|██████████| 2/2 [00:00<00:00, 108.84it/s]\n",
      "100%|██████████| 2/2 [00:00<00:00, 101.12it/s]\n",
      "100%|██████████| 2/2 [00:00<00:00, 69.61it/s]\n",
      "100%|██████████| 2/2 [00:00<00:00, 24.55it/s]\n",
      "100%|██████████| 2/2 [00:00<00:00, 43.22it/s]\n",
      "100%|██████████| 2/2 [00:00<00:00, 68.71it/s]\n",
      "100%|██████████| 2/2 [00:00<00:00, 123.61it/s]\n",
      "100%|██████████| 2/2 [00:00<00:00, 106.28it/s]\n",
      "100%|██████████| 2/2 [00:00<00:00, 109.25it/s]\n",
      "100%|██████████| 2/2 [00:00<00:00, 115.59it/s]\n",
      "100%|██████████| 2/2 [00:00<00:00, 100.01it/s]\n",
      "100%|██████████| 2/2 [00:00<00:00, 119.23it/s]\n",
      "100%|██████████| 2/2 [00:00<00:00, 119.93it/s]\n",
      "100%|██████████| 2/2 [00:00<00:00, 107.33it/s]\n",
      "100%|██████████| 2/2 [00:00<00:00, 115.92it/s]\n",
      "100%|██████████| 2/2 [00:00<00:00, 104.02it/s]\n",
      "100%|██████████| 2/2 [00:00<00:00, 100.75it/s]\n",
      "100%|██████████| 2/2 [00:00<00:00, 106.12it/s]\n",
      "100%|██████████| 2/2 [00:00<00:00, 103.34it/s]\n",
      "100%|██████████| 2/2 [00:00<00:00, 63.82it/s]\n",
      "100%|██████████| 2/2 [00:00<00:00, 69.50it/s]\n",
      "100%|██████████| 2/2 [00:00<00:00, 107.27it/s]\n",
      "100%|██████████| 2/2 [00:00<00:00, 112.23it/s]\n",
      "100%|██████████| 2/2 [00:00<00:00, 90.89it/s]\n",
      "100%|██████████| 2/2 [00:00<00:00, 97.74it/s]\n",
      "100%|██████████| 2/2 [00:00<00:00, 110.35it/s]\n",
      "100%|██████████| 2/2 [00:00<00:00, 71.82it/s]\n",
      "100%|██████████| 2/2 [00:00<00:00, 113.77it/s]\n",
      "100%|██████████| 2/2 [00:00<00:00, 103.60it/s]\n",
      "100%|██████████| 2/2 [00:00<00:00, 105.83it/s]\n",
      "100%|██████████| 2/2 [00:00<00:00, 120.68it/s]\n",
      "100%|██████████| 2/2 [00:00<00:00, 115.84it/s]\n",
      "100%|██████████| 2/2 [00:00<00:00, 123.02it/s]\n",
      "100%|██████████| 2/2 [00:00<00:00, 123.89it/s]\n",
      "100%|██████████| 2/2 [00:00<00:00, 119.52it/s]\n",
      "100%|██████████| 2/2 [00:00<00:00, 120.15it/s]\n",
      "100%|██████████| 2/2 [00:00<00:00, 125.01it/s]\n"
     ]
    }
   ],
   "source": [
    "# ==== Train or Test ====\n",
    "if mode == 'train':\n",
    "    solver.train()\n",
    "else:\n",
    "    solver.test()"
   ]
  },
  {
   "cell_type": "code",
   "execution_count": 7,
   "id": "0f8ae24d",
   "metadata": {},
   "outputs": [
    {
     "name": "stdout",
     "output_type": "stream",
     "text": [
      "Results for student_t distribution:\n",
      "Threshold : -11.323864364624024\n",
      "Accuracy : 0.7941, Precision : 0.1429, Recall : 0.6559, F-score : 0.2346\n"
     ]
    },
    {
     "data": {
      "text/plain": [
       "(0.794102431453699,\n",
       " 0.14285714285714285,\n",
       " 0.6559139784946236,\n",
       " 0.2346153846153846)"
      ]
     },
     "execution_count": 7,
     "metadata": {},
     "output_type": "execute_result"
    }
   ],
   "source": [
    "print(f\"Results for {dist_type} distribution:\")\n",
    "solver.test()"
   ]
  }
 ],
 "metadata": {
  "kernelspec": {
   "display_name": "Python 3",
   "language": "python",
   "name": "python3"
  },
  "language_info": {
   "codemirror_mode": {
    "name": "ipython",
    "version": 3
   },
   "file_extension": ".py",
   "mimetype": "text/x-python",
   "name": "python",
   "nbconvert_exporter": "python",
   "pygments_lexer": "ipython3",
   "version": "3.10.6"
  }
 },
 "nbformat": 4,
 "nbformat_minor": 5
}
