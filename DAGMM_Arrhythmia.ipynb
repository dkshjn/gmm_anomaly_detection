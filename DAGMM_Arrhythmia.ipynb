{
 "cells": [
  {
   "cell_type": "markdown",
   "id": "adc73a13",
   "metadata": {},
   "source": [
    "### DAGMM on Arrhythmia"
   ]
  },
  {
   "cell_type": "markdown",
   "id": "b9598f9e",
   "metadata": {},
   "source": [
    "This notebook trains **DAGMM** with **Gaussian / Laplace / Student‑t** mixture components on the **Arrhythmia** dataset.\n",
    "You can switch the mixture distribution with the `dist_type` parameter below (`'gaussian'|'laplace'|'student_t'`)."
   ]
  },
  {
   "cell_type": "code",
   "execution_count": 15,
   "id": "8902ff38",
   "metadata": {},
   "outputs": [],
   "source": [
    "## If you haven't installed the repo dependencies in this environment, uncomment and run:\n",
    "# !pip install -r requirements.txt\n",
    "# !pip install torch torchvision torchaudio --extra-index-url https://download.pytorch.org/whl/cpu"
   ]
  },
  {
   "cell_type": "code",
   "execution_count": 16,
   "id": "d4e4671d",
   "metadata": {},
   "outputs": [],
   "source": [
    "import os, sys, json, torch\n",
    "from pathlib import Path\n",
    "# Assuming this notebook lives inside the repo root; otherwise adjust:\n",
    "sys.path.append(str(Path().resolve()))\n",
    "from arrhythmia import ArrhythmiaLoader\n",
    "from model import DaGMM\n",
    "from solver import Solver"
   ]
  },
  {
   "cell_type": "code",
   "execution_count": 17,
   "id": "5439f6ab",
   "metadata": {},
   "outputs": [],
   "source": [
    "# ==== Configuration ====\n",
    "data_path = 'arrhythmia.data'   # change if your dataset lives elsewhere\n",
    "dist_type = 'gaussian'   # 'gaussian' | 'laplace' | 'student_t'\n",
    "student_nu = 4.0         # only used if dist_type == 'student_t'\n",
    "mode = 'train'           # 'train' or 'test'\n",
    "\n",
    "# Training params\n",
    "batch_size = 1024  # adjust per dataset size\n",
    "num_epochs = 100\n",
    "lr = 1e-4\n",
    "gmm_k = 4\n",
    "lambda_energy = 0.1\n",
    "lambda_cov_diag = 0.005"
   ]
  },
  {
   "cell_type": "code",
   "execution_count": 18,
   "id": "f96010b6",
   "metadata": {},
   "outputs": [
    {
     "name": "stdout",
     "output_type": "stream",
     "text": [
      "Train set size: 193\n",
      "Test set size : 259\n"
     ]
    },
    {
     "name": "stderr",
     "output_type": "stream",
     "text": [
      "/Users/dj/Downloads/daksh_dagmm 2/dagmm/arrhythmia.py:19: FutureWarning: A value is trying to be set on a copy of a DataFrame or Series through chained assignment using an inplace method.\n",
      "The behavior will change in pandas 3.0. This inplace method will never work because the intermediate object on which we are setting values always behaves as a copy.\n",
      "\n",
      "For example, when doing 'df[col].method(value, inplace=True)', try using 'df.method({col: value}, inplace=True)' or df[col] = df[col].method(value) instead, to perform the operation inplace on the original object.\n",
      "\n",
      "\n",
      "  features[col].fillna(features[col].mean(), inplace=True)\n"
     ]
    }
   ],
   "source": [
    "# ==== Data loader ====\n",
    "dataset = ArrhythmiaLoader(data_path, mode=mode)\n",
    "from torch.utils.data import DataLoader\n",
    "data_loader = DataLoader(dataset, batch_size=batch_size, shuffle=(mode=='train'))\n",
    "print(f'Train set size: {len(dataset.train) if mode==\"train\" else \"N/A\"}')\n",
    "print(f'Test set size : {len(dataset.test) if mode==\"test\" else len(dataset.test)}')"
   ]
  },
  {
   "cell_type": "code",
   "execution_count": 19,
   "id": "1ec014cf",
   "metadata": {},
   "outputs": [],
   "source": [
    "# ==== Initialize model & solver ====\n",
    "config = {\n",
    "    'lr': lr,\n",
    "    'num_epochs': num_epochs,\n",
    "    'batch_size': batch_size,\n",
    "    'gmm_k': gmm_k,\n",
    "    'lambda_energy': lambda_energy,\n",
    "    'lambda_cov_diag': lambda_cov_diag,\n",
    "    'dist_type': dist_type,\n",
    "    'student_nu': student_nu,\n",
    "    'model_save_path': './models',\n",
    "    'input_dim': 279\n",
    "}\n",
    "solver = Solver(data_loader, config)\n",
    "# Adjust input/output dimensions automatically (279 attributes after imputation)\n",
    "input_dim = dataset.train.shape[1] if mode=='train' else dataset.test.shape[1]\n",
    "solver.dagmm.encoder[0] = torch.nn.Linear(input_dim, solver.dagmm.encoder[0].out_features)\n",
    "solver.dagmm.decoder[-1] = torch.nn.Linear(solver.dagmm.decoder[-1].in_features, input_dim)"
   ]
  },
  {
   "cell_type": "code",
   "execution_count": 20,
   "id": "7bcc352b",
   "metadata": {},
   "outputs": [
    {
     "name": "stderr",
     "output_type": "stream",
     "text": [
      "100%|██████████| 1/1 [00:00<00:00, 55.05it/s]\n",
      "100%|██████████| 1/1 [00:00<00:00, 70.87it/s]\n",
      "100%|██████████| 1/1 [00:00<00:00, 128.17it/s]\n",
      "100%|██████████| 1/1 [00:00<00:00, 143.60it/s]\n",
      "100%|██████████| 1/1 [00:00<00:00, 128.65it/s]\n",
      "100%|██████████| 1/1 [00:00<00:00, 148.48it/s]\n",
      "100%|██████████| 1/1 [00:00<00:00, 129.60it/s]\n",
      "100%|██████████| 1/1 [00:00<00:00, 124.70it/s]\n",
      "100%|██████████| 1/1 [00:00<00:00, 122.60it/s]\n",
      "100%|██████████| 1/1 [00:00<00:00, 118.82it/s]\n",
      "100%|██████████| 1/1 [00:00<00:00, 132.01it/s]\n",
      "100%|██████████| 1/1 [00:00<00:00, 116.92it/s]\n",
      "100%|██████████| 1/1 [00:00<00:00, 153.33it/s]\n",
      "100%|██████████| 1/1 [00:00<00:00, 127.93it/s]\n",
      "100%|██████████| 1/1 [00:00<00:00, 157.40it/s]\n",
      "100%|██████████| 1/1 [00:00<00:00, 171.88it/s]\n",
      "100%|██████████| 1/1 [00:00<00:00, 169.80it/s]\n",
      "100%|██████████| 1/1 [00:00<00:00, 170.04it/s]\n",
      "100%|██████████| 1/1 [00:00<00:00, 160.86it/s]\n",
      "100%|██████████| 1/1 [00:00<00:00, 159.67it/s]\n",
      "100%|██████████| 1/1 [00:00<00:00, 176.49it/s]\n",
      "100%|██████████| 1/1 [00:00<00:00, 183.45it/s]\n",
      "100%|██████████| 1/1 [00:00<00:00, 153.99it/s]\n",
      "100%|██████████| 1/1 [00:00<00:00, 173.58it/s]\n",
      "100%|██████████| 1/1 [00:00<00:00, 154.04it/s]\n",
      "100%|██████████| 1/1 [00:00<00:00, 164.67it/s]\n",
      "100%|██████████| 1/1 [00:00<00:00, 164.66it/s]\n",
      "100%|██████████| 1/1 [00:00<00:00, 168.61it/s]\n",
      "100%|██████████| 1/1 [00:00<00:00, 169.86it/s]\n",
      "100%|██████████| 1/1 [00:00<00:00, 170.71it/s]\n",
      "100%|██████████| 1/1 [00:00<00:00, 159.36it/s]\n",
      "100%|██████████| 1/1 [00:00<00:00, 157.31it/s]\n",
      "100%|██████████| 1/1 [00:00<00:00, 11.71it/s]\n",
      "100%|██████████| 1/1 [00:00<00:00, 182.29it/s]\n",
      "100%|██████████| 1/1 [00:00<00:00, 174.42it/s]\n",
      "100%|██████████| 1/1 [00:00<00:00, 174.83it/s]\n",
      "100%|██████████| 1/1 [00:00<00:00, 170.06it/s]\n",
      "100%|██████████| 1/1 [00:00<00:00, 175.32it/s]\n",
      "100%|██████████| 1/1 [00:00<00:00, 171.47it/s]\n",
      "100%|██████████| 1/1 [00:00<00:00, 167.95it/s]\n",
      "100%|██████████| 1/1 [00:00<00:00, 155.49it/s]\n",
      "100%|██████████| 1/1 [00:00<00:00, 167.93it/s]\n",
      "100%|██████████| 1/1 [00:00<00:00, 158.95it/s]\n",
      "100%|██████████| 1/1 [00:00<00:00, 131.95it/s]\n",
      "100%|██████████| 1/1 [00:00<00:00, 155.77it/s]\n",
      "100%|██████████| 1/1 [00:00<00:00, 173.58it/s]\n",
      "100%|██████████| 1/1 [00:00<00:00, 179.18it/s]\n",
      "100%|██████████| 1/1 [00:00<00:00, 154.41it/s]\n",
      "100%|██████████| 1/1 [00:00<00:00, 176.84it/s]\n",
      "100%|██████████| 1/1 [00:00<00:00, 168.69it/s]\n",
      "100%|██████████| 1/1 [00:00<00:00, 160.28it/s]\n",
      "100%|██████████| 1/1 [00:00<00:00, 165.23it/s]\n",
      "100%|██████████| 1/1 [00:00<00:00, 169.20it/s]\n",
      "100%|██████████| 1/1 [00:00<00:00, 184.91it/s]\n",
      "100%|██████████| 1/1 [00:00<00:00, 167.28it/s]\n",
      "100%|██████████| 1/1 [00:00<00:00, 182.72it/s]\n",
      "100%|██████████| 1/1 [00:00<00:00, 169.37it/s]\n",
      "100%|██████████| 1/1 [00:00<00:00, 168.61it/s]\n",
      "100%|██████████| 1/1 [00:00<00:00, 168.67it/s]\n",
      "100%|██████████| 1/1 [00:00<00:00, 160.35it/s]\n",
      "100%|██████████| 1/1 [00:00<00:00, 169.47it/s]\n",
      "100%|██████████| 1/1 [00:00<00:00, 167.20it/s]\n",
      "100%|██████████| 1/1 [00:00<00:00, 183.93it/s]\n",
      "100%|██████████| 1/1 [00:00<00:00, 154.74it/s]\n",
      "100%|██████████| 1/1 [00:00<00:00, 152.55it/s]\n",
      "100%|██████████| 1/1 [00:00<00:00, 171.47it/s]\n",
      "100%|██████████| 1/1 [00:00<00:00, 130.22it/s]\n",
      "100%|██████████| 1/1 [00:00<00:00, 91.55it/s]\n",
      "100%|██████████| 1/1 [00:00<00:00, 159.74it/s]\n",
      "100%|██████████| 1/1 [00:00<00:00, 167.30it/s]\n",
      "100%|██████████| 1/1 [00:00<00:00, 163.22it/s]\n",
      "100%|██████████| 1/1 [00:00<00:00, 164.28it/s]\n",
      "100%|██████████| 1/1 [00:00<00:00, 168.64it/s]\n",
      "100%|██████████| 1/1 [00:00<00:00, 179.98it/s]\n",
      "100%|██████████| 1/1 [00:00<00:00, 160.88it/s]\n",
      "100%|██████████| 1/1 [00:00<00:00, 156.27it/s]\n",
      "100%|██████████| 1/1 [00:00<00:00, 166.31it/s]\n",
      "100%|██████████| 1/1 [00:00<00:00, 167.89it/s]\n",
      "100%|██████████| 1/1 [00:00<00:00, 168.89it/s]\n",
      "100%|██████████| 1/1 [00:00<00:00, 166.34it/s]\n",
      "100%|██████████| 1/1 [00:00<00:00, 160.57it/s]\n",
      "100%|██████████| 1/1 [00:00<00:00, 168.80it/s]\n",
      "100%|██████████| 1/1 [00:00<00:00, 168.41it/s]\n",
      "100%|██████████| 1/1 [00:00<00:00, 158.88it/s]\n",
      "100%|██████████| 1/1 [00:00<00:00, 30.44it/s]\n",
      "100%|██████████| 1/1 [00:00<00:00, 170.22it/s]\n",
      "100%|██████████| 1/1 [00:00<00:00, 167.20it/s]\n",
      "100%|██████████| 1/1 [00:00<00:00, 176.11it/s]\n",
      "100%|██████████| 1/1 [00:00<00:00, 160.17it/s]\n",
      "100%|██████████| 1/1 [00:00<00:00, 169.18it/s]\n",
      "100%|██████████| 1/1 [00:00<00:00, 165.34it/s]\n",
      "100%|██████████| 1/1 [00:00<00:00, 163.88it/s]\n",
      "100%|██████████| 1/1 [00:00<00:00, 171.47it/s]\n",
      "100%|██████████| 1/1 [00:00<00:00, 173.07it/s]\n",
      "100%|██████████| 1/1 [00:00<00:00, 176.36it/s]\n",
      "100%|██████████| 1/1 [00:00<00:00, 186.18it/s]\n",
      "100%|██████████| 1/1 [00:00<00:00, 160.08it/s]\n",
      "100%|██████████| 1/1 [00:00<00:00, 159.67it/s]\n",
      "100%|██████████| 1/1 [00:00<00:00, 164.10it/s]\n",
      "100%|██████████| 1/1 [00:00<00:00, 170.76it/s]\n"
     ]
    }
   ],
   "source": [
    "# ==== Train or Test ====\n",
    "if mode == 'train':\n",
    "    solver.train()\n",
    "else:\n",
    "    solver.test()"
   ]
  },
  {
   "cell_type": "code",
   "execution_count": 21,
   "id": "5355a696",
   "metadata": {},
   "outputs": [
    {
     "name": "stdout",
     "output_type": "stream",
     "text": [
      "Results for gaussian distribution:\n",
      "Threshold : -8.932000732421875\n",
      "Accuracy : 0.7529, Precision : 0.5161, Recall : 0.4848, F-score : 0.5000\n"
     ]
    },
    {
     "data": {
      "text/plain": [
       "(0.752895752895753, 0.5161290322580645, 0.48484848484848486, 0.5)"
      ]
     },
     "execution_count": 21,
     "metadata": {},
     "output_type": "execute_result"
    }
   ],
   "source": [
    "print(f\"Results for {dist_type} distribution:\")\n",
    "solver.test()"
   ]
  }
 ],
 "metadata": {
  "kernelspec": {
   "display_name": "Python 3",
   "language": "python",
   "name": "python3"
  },
  "language_info": {
   "codemirror_mode": {
    "name": "ipython",
    "version": 3
   },
   "file_extension": ".py",
   "mimetype": "text/x-python",
   "name": "python",
   "nbconvert_exporter": "python",
   "pygments_lexer": "ipython3",
   "version": "3.10.6"
  }
 },
 "nbformat": 4,
 "nbformat_minor": 5
}
