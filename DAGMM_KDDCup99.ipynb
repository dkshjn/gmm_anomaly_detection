{
 "cells": [
  {
   "cell_type": "markdown",
   "metadata": {},
   "source": [
    "### DAGMM on KDDCUP99"
   ]
  },
  {
   "cell_type": "markdown",
   "metadata": {},
   "source": [
    "This notebook trains **DAGMM** with **Gaussian / Laplace / Student‑t** mixture components on the **KDDCUP99** dataset.\n",
    "You can switch the mixture distribution with the `dist_type` parameter below (`'gaussian'|'laplace'|'student_t'`)."
   ]
  },
  {
   "cell_type": "code",
   "execution_count": 1,
   "metadata": {},
   "outputs": [],
   "source": [
    "import numpy as np \n",
    "import pandas as pd\n",
    "import torch\n",
    "from data_loader import *\n",
    "from main import *\n",
    "from sklearn.metrics import precision_recall_fscore_support as prf, accuracy_score"
   ]
  },
  {
   "cell_type": "code",
   "execution_count": 2,
   "metadata": {},
   "outputs": [],
   "source": [
    "dist_type = 'gaussian'   # 'gaussian' | 'laplace' | 'student_t'\n",
    "student_nu = 4.0         # only used if dist_type == 'student_t'"
   ]
  },
  {
   "cell_type": "code",
   "execution_count": 3,
   "metadata": {},
   "outputs": [],
   "source": [
    "data = pd.read_csv(\"kddcup.data_10_percent\", header=None,names=['duration', 'protocol_type', 'service', 'flag', 'src_bytes', 'dst_bytes', 'land', 'wrong_fragment', 'urgent', 'hot', 'num_failed_logins', 'logged_in', 'num_compromised', 'root_shell', 'su_attempted', 'num_root', 'num_file_creations', 'num_shells', 'num_access_files', 'num_outbound_cmds', 'is_host_login', 'is_guest_login', 'count', 'srv_count', 'serror_rate', 'srv_serror_rate', 'rerror_rate', 'srv_rerror_rate', 'same_srv_rate', 'diff_srv_rate', 'srv_diff_host_rate', 'dst_host_count', 'dst_host_srv_count', 'dst_host_same_srv_rate', 'dst_host_diff_srv_rate', 'dst_host_same_src_port_rate', 'dst_host_srv_diff_host_rate', 'dst_host_serror_rate', 'dst_host_srv_serror_rate', 'dst_host_rerror_rate', 'dst_host_srv_rerror_rate', 'type'])"
   ]
  },
  {
   "cell_type": "code",
   "execution_count": 4,
   "metadata": {},
   "outputs": [
    {
     "data": {
      "application/vnd.microsoft.datawrangler.viewer.v0+json": {
       "columns": [
        {
         "name": "index",
         "rawType": "int64",
         "type": "integer"
        },
        {
         "name": "icmp",
         "rawType": "bool",
         "type": "boolean"
        },
        {
         "name": "tcp",
         "rawType": "bool",
         "type": "boolean"
        },
        {
         "name": "udp",
         "rawType": "bool",
         "type": "boolean"
        },
        {
         "name": "IRC",
         "rawType": "bool",
         "type": "boolean"
        },
        {
         "name": "X11",
         "rawType": "bool",
         "type": "boolean"
        },
        {
         "name": "Z39_50",
         "rawType": "bool",
         "type": "boolean"
        },
        {
         "name": "auth",
         "rawType": "bool",
         "type": "boolean"
        },
        {
         "name": "bgp",
         "rawType": "bool",
         "type": "boolean"
        },
        {
         "name": "courier",
         "rawType": "bool",
         "type": "boolean"
        },
        {
         "name": "csnet_ns",
         "rawType": "bool",
         "type": "boolean"
        },
        {
         "name": "ctf",
         "rawType": "bool",
         "type": "boolean"
        },
        {
         "name": "daytime",
         "rawType": "bool",
         "type": "boolean"
        },
        {
         "name": "discard",
         "rawType": "bool",
         "type": "boolean"
        },
        {
         "name": "domain",
         "rawType": "bool",
         "type": "boolean"
        },
        {
         "name": "domain_u",
         "rawType": "bool",
         "type": "boolean"
        },
        {
         "name": "echo",
         "rawType": "bool",
         "type": "boolean"
        },
        {
         "name": "eco_i",
         "rawType": "bool",
         "type": "boolean"
        },
        {
         "name": "ecr_i",
         "rawType": "bool",
         "type": "boolean"
        },
        {
         "name": "efs",
         "rawType": "bool",
         "type": "boolean"
        },
        {
         "name": "exec",
         "rawType": "bool",
         "type": "boolean"
        },
        {
         "name": "finger",
         "rawType": "bool",
         "type": "boolean"
        },
        {
         "name": "ftp",
         "rawType": "bool",
         "type": "boolean"
        },
        {
         "name": "ftp_data",
         "rawType": "bool",
         "type": "boolean"
        },
        {
         "name": "gopher",
         "rawType": "bool",
         "type": "boolean"
        },
        {
         "name": "hostnames",
         "rawType": "bool",
         "type": "boolean"
        },
        {
         "name": "http",
         "rawType": "bool",
         "type": "boolean"
        },
        {
         "name": "http_443",
         "rawType": "bool",
         "type": "boolean"
        },
        {
         "name": "imap4",
         "rawType": "bool",
         "type": "boolean"
        },
        {
         "name": "iso_tsap",
         "rawType": "bool",
         "type": "boolean"
        },
        {
         "name": "klogin",
         "rawType": "bool",
         "type": "boolean"
        },
        {
         "name": "kshell",
         "rawType": "bool",
         "type": "boolean"
        },
        {
         "name": "ldap",
         "rawType": "bool",
         "type": "boolean"
        },
        {
         "name": "link",
         "rawType": "bool",
         "type": "boolean"
        },
        {
         "name": "login",
         "rawType": "bool",
         "type": "boolean"
        },
        {
         "name": "mtp",
         "rawType": "bool",
         "type": "boolean"
        },
        {
         "name": "name",
         "rawType": "bool",
         "type": "boolean"
        },
        {
         "name": "netbios_dgm",
         "rawType": "bool",
         "type": "boolean"
        },
        {
         "name": "netbios_ns",
         "rawType": "bool",
         "type": "boolean"
        },
        {
         "name": "netbios_ssn",
         "rawType": "bool",
         "type": "boolean"
        },
        {
         "name": "netstat",
         "rawType": "bool",
         "type": "boolean"
        },
        {
         "name": "nnsp",
         "rawType": "bool",
         "type": "boolean"
        },
        {
         "name": "nntp",
         "rawType": "bool",
         "type": "boolean"
        },
        {
         "name": "ntp_u",
         "rawType": "bool",
         "type": "boolean"
        },
        {
         "name": "other",
         "rawType": "bool",
         "type": "boolean"
        },
        {
         "name": "pm_dump",
         "rawType": "bool",
         "type": "boolean"
        },
        {
         "name": "pop_2",
         "rawType": "bool",
         "type": "boolean"
        },
        {
         "name": "pop_3",
         "rawType": "bool",
         "type": "boolean"
        },
        {
         "name": "printer",
         "rawType": "bool",
         "type": "boolean"
        },
        {
         "name": "private",
         "rawType": "bool",
         "type": "boolean"
        },
        {
         "name": "red_i",
         "rawType": "bool",
         "type": "boolean"
        },
        {
         "name": "remote_job",
         "rawType": "bool",
         "type": "boolean"
        },
        {
         "name": "rje",
         "rawType": "bool",
         "type": "boolean"
        },
        {
         "name": "shell",
         "rawType": "bool",
         "type": "boolean"
        },
        {
         "name": "smtp",
         "rawType": "bool",
         "type": "boolean"
        },
        {
         "name": "sql_net",
         "rawType": "bool",
         "type": "boolean"
        },
        {
         "name": "ssh",
         "rawType": "bool",
         "type": "boolean"
        },
        {
         "name": "sunrpc",
         "rawType": "bool",
         "type": "boolean"
        },
        {
         "name": "supdup",
         "rawType": "bool",
         "type": "boolean"
        },
        {
         "name": "systat",
         "rawType": "bool",
         "type": "boolean"
        },
        {
         "name": "telnet",
         "rawType": "bool",
         "type": "boolean"
        },
        {
         "name": "tftp_u",
         "rawType": "bool",
         "type": "boolean"
        },
        {
         "name": "tim_i",
         "rawType": "bool",
         "type": "boolean"
        },
        {
         "name": "time",
         "rawType": "bool",
         "type": "boolean"
        },
        {
         "name": "urh_i",
         "rawType": "bool",
         "type": "boolean"
        },
        {
         "name": "urp_i",
         "rawType": "bool",
         "type": "boolean"
        },
        {
         "name": "uucp",
         "rawType": "bool",
         "type": "boolean"
        },
        {
         "name": "uucp_path",
         "rawType": "bool",
         "type": "boolean"
        },
        {
         "name": "vmnet",
         "rawType": "bool",
         "type": "boolean"
        },
        {
         "name": "whois",
         "rawType": "bool",
         "type": "boolean"
        },
        {
         "name": "OTH",
         "rawType": "bool",
         "type": "boolean"
        },
        {
         "name": "REJ",
         "rawType": "bool",
         "type": "boolean"
        },
        {
         "name": "RSTO",
         "rawType": "bool",
         "type": "boolean"
        },
        {
         "name": "RSTOS0",
         "rawType": "bool",
         "type": "boolean"
        },
        {
         "name": "RSTR",
         "rawType": "bool",
         "type": "boolean"
        },
        {
         "name": "S0",
         "rawType": "bool",
         "type": "boolean"
        },
        {
         "name": "S1",
         "rawType": "bool",
         "type": "boolean"
        },
        {
         "name": "S2",
         "rawType": "bool",
         "type": "boolean"
        },
        {
         "name": "S3",
         "rawType": "bool",
         "type": "boolean"
        },
        {
         "name": "SF",
         "rawType": "bool",
         "type": "boolean"
        },
        {
         "name": "SH",
         "rawType": "bool",
         "type": "boolean"
        },
        {
         "name": "duration",
         "rawType": "int64",
         "type": "integer"
        },
        {
         "name": "src_bytes",
         "rawType": "int64",
         "type": "integer"
        },
        {
         "name": "dst_bytes",
         "rawType": "int64",
         "type": "integer"
        },
        {
         "name": "land",
         "rawType": "int64",
         "type": "integer"
        },
        {
         "name": "wrong_fragment",
         "rawType": "int64",
         "type": "integer"
        },
        {
         "name": "urgent",
         "rawType": "int64",
         "type": "integer"
        },
        {
         "name": "hot",
         "rawType": "int64",
         "type": "integer"
        },
        {
         "name": "num_failed_logins",
         "rawType": "int64",
         "type": "integer"
        },
        {
         "name": "logged_in",
         "rawType": "int64",
         "type": "integer"
        },
        {
         "name": "num_compromised",
         "rawType": "int64",
         "type": "integer"
        },
        {
         "name": "root_shell",
         "rawType": "int64",
         "type": "integer"
        },
        {
         "name": "su_attempted",
         "rawType": "int64",
         "type": "integer"
        },
        {
         "name": "num_root",
         "rawType": "int64",
         "type": "integer"
        },
        {
         "name": "num_file_creations",
         "rawType": "int64",
         "type": "integer"
        },
        {
         "name": "num_shells",
         "rawType": "int64",
         "type": "integer"
        },
        {
         "name": "num_access_files",
         "rawType": "int64",
         "type": "integer"
        },
        {
         "name": "num_outbound_cmds",
         "rawType": "int64",
         "type": "integer"
        },
        {
         "name": "is_host_login",
         "rawType": "int64",
         "type": "integer"
        },
        {
         "name": "is_guest_login",
         "rawType": "int64",
         "type": "integer"
        },
        {
         "name": "count",
         "rawType": "int64",
         "type": "integer"
        },
        {
         "name": "srv_count",
         "rawType": "int64",
         "type": "integer"
        },
        {
         "name": "serror_rate",
         "rawType": "float64",
         "type": "float"
        },
        {
         "name": "srv_serror_rate",
         "rawType": "float64",
         "type": "float"
        },
        {
         "name": "rerror_rate",
         "rawType": "float64",
         "type": "float"
        },
        {
         "name": "srv_rerror_rate",
         "rawType": "float64",
         "type": "float"
        },
        {
         "name": "same_srv_rate",
         "rawType": "float64",
         "type": "float"
        },
        {
         "name": "diff_srv_rate",
         "rawType": "float64",
         "type": "float"
        },
        {
         "name": "srv_diff_host_rate",
         "rawType": "float64",
         "type": "float"
        },
        {
         "name": "dst_host_count",
         "rawType": "int64",
         "type": "integer"
        },
        {
         "name": "dst_host_srv_count",
         "rawType": "int64",
         "type": "integer"
        },
        {
         "name": "dst_host_same_srv_rate",
         "rawType": "float64",
         "type": "float"
        },
        {
         "name": "dst_host_diff_srv_rate",
         "rawType": "float64",
         "type": "float"
        },
        {
         "name": "dst_host_same_src_port_rate",
         "rawType": "float64",
         "type": "float"
        },
        {
         "name": "dst_host_srv_diff_host_rate",
         "rawType": "float64",
         "type": "float"
        },
        {
         "name": "dst_host_serror_rate",
         "rawType": "float64",
         "type": "float"
        },
        {
         "name": "dst_host_srv_serror_rate",
         "rawType": "float64",
         "type": "float"
        },
        {
         "name": "dst_host_rerror_rate",
         "rawType": "float64",
         "type": "float"
        },
        {
         "name": "dst_host_srv_rerror_rate",
         "rawType": "float64",
         "type": "float"
        },
        {
         "name": "type",
         "rawType": "object",
         "type": "unknown"
        }
       ],
       "conversionMethod": "pd.DataFrame",
       "ref": "a59e419b-0b17-414f-a360-8b5cbeab6808",
       "rows": [
        [
         "0",
         "False",
         "True",
         "False",
         "False",
         "False",
         "False",
         "False",
         "False",
         "False",
         "False",
         "False",
         "False",
         "False",
         "False",
         "False",
         "False",
         "False",
         "False",
         "False",
         "False",
         "False",
         "False",
         "False",
         "False",
         "False",
         "True",
         "False",
         "False",
         "False",
         "False",
         "False",
         "False",
         "False",
         "False",
         "False",
         "False",
         "False",
         "False",
         "False",
         "False",
         "False",
         "False",
         "False",
         "False",
         "False",
         "False",
         "False",
         "False",
         "False",
         "False",
         "False",
         "False",
         "False",
         "False",
         "False",
         "False",
         "False",
         "False",
         "False",
         "False",
         "False",
         "False",
         "False",
         "False",
         "False",
         "False",
         "False",
         "False",
         "False",
         "False",
         "False",
         "False",
         "False",
         "False",
         "False",
         "False",
         "False",
         "False",
         "True",
         "False",
         "0",
         "181",
         "5450",
         "0",
         "0",
         "0",
         "0",
         "0",
         "1",
         "0",
         "0",
         "0",
         "0",
         "0",
         "0",
         "0",
         "0",
         "0",
         "0",
         "8",
         "8",
         "0.0",
         "0.0",
         "0.0",
         "0.0",
         "1.0",
         "0.0",
         "0.0",
         "9",
         "9",
         "1.0",
         "0.0",
         "0.11",
         "0.0",
         "0.0",
         "0.0",
         "0.0",
         "0.0",
         "1"
        ],
        [
         "1",
         "False",
         "True",
         "False",
         "False",
         "False",
         "False",
         "False",
         "False",
         "False",
         "False",
         "False",
         "False",
         "False",
         "False",
         "False",
         "False",
         "False",
         "False",
         "False",
         "False",
         "False",
         "False",
         "False",
         "False",
         "False",
         "True",
         "False",
         "False",
         "False",
         "False",
         "False",
         "False",
         "False",
         "False",
         "False",
         "False",
         "False",
         "False",
         "False",
         "False",
         "False",
         "False",
         "False",
         "False",
         "False",
         "False",
         "False",
         "False",
         "False",
         "False",
         "False",
         "False",
         "False",
         "False",
         "False",
         "False",
         "False",
         "False",
         "False",
         "False",
         "False",
         "False",
         "False",
         "False",
         "False",
         "False",
         "False",
         "False",
         "False",
         "False",
         "False",
         "False",
         "False",
         "False",
         "False",
         "False",
         "False",
         "False",
         "True",
         "False",
         "0",
         "239",
         "486",
         "0",
         "0",
         "0",
         "0",
         "0",
         "1",
         "0",
         "0",
         "0",
         "0",
         "0",
         "0",
         "0",
         "0",
         "0",
         "0",
         "8",
         "8",
         "0.0",
         "0.0",
         "0.0",
         "0.0",
         "1.0",
         "0.0",
         "0.0",
         "19",
         "19",
         "1.0",
         "0.0",
         "0.05",
         "0.0",
         "0.0",
         "0.0",
         "0.0",
         "0.0",
         "1"
        ],
        [
         "2",
         "False",
         "True",
         "False",
         "False",
         "False",
         "False",
         "False",
         "False",
         "False",
         "False",
         "False",
         "False",
         "False",
         "False",
         "False",
         "False",
         "False",
         "False",
         "False",
         "False",
         "False",
         "False",
         "False",
         "False",
         "False",
         "True",
         "False",
         "False",
         "False",
         "False",
         "False",
         "False",
         "False",
         "False",
         "False",
         "False",
         "False",
         "False",
         "False",
         "False",
         "False",
         "False",
         "False",
         "False",
         "False",
         "False",
         "False",
         "False",
         "False",
         "False",
         "False",
         "False",
         "False",
         "False",
         "False",
         "False",
         "False",
         "False",
         "False",
         "False",
         "False",
         "False",
         "False",
         "False",
         "False",
         "False",
         "False",
         "False",
         "False",
         "False",
         "False",
         "False",
         "False",
         "False",
         "False",
         "False",
         "False",
         "False",
         "True",
         "False",
         "0",
         "235",
         "1337",
         "0",
         "0",
         "0",
         "0",
         "0",
         "1",
         "0",
         "0",
         "0",
         "0",
         "0",
         "0",
         "0",
         "0",
         "0",
         "0",
         "8",
         "8",
         "0.0",
         "0.0",
         "0.0",
         "0.0",
         "1.0",
         "0.0",
         "0.0",
         "29",
         "29",
         "1.0",
         "0.0",
         "0.03",
         "0.0",
         "0.0",
         "0.0",
         "0.0",
         "0.0",
         "1"
        ],
        [
         "3",
         "False",
         "True",
         "False",
         "False",
         "False",
         "False",
         "False",
         "False",
         "False",
         "False",
         "False",
         "False",
         "False",
         "False",
         "False",
         "False",
         "False",
         "False",
         "False",
         "False",
         "False",
         "False",
         "False",
         "False",
         "False",
         "True",
         "False",
         "False",
         "False",
         "False",
         "False",
         "False",
         "False",
         "False",
         "False",
         "False",
         "False",
         "False",
         "False",
         "False",
         "False",
         "False",
         "False",
         "False",
         "False",
         "False",
         "False",
         "False",
         "False",
         "False",
         "False",
         "False",
         "False",
         "False",
         "False",
         "False",
         "False",
         "False",
         "False",
         "False",
         "False",
         "False",
         "False",
         "False",
         "False",
         "False",
         "False",
         "False",
         "False",
         "False",
         "False",
         "False",
         "False",
         "False",
         "False",
         "False",
         "False",
         "False",
         "True",
         "False",
         "0",
         "219",
         "1337",
         "0",
         "0",
         "0",
         "0",
         "0",
         "1",
         "0",
         "0",
         "0",
         "0",
         "0",
         "0",
         "0",
         "0",
         "0",
         "0",
         "6",
         "6",
         "0.0",
         "0.0",
         "0.0",
         "0.0",
         "1.0",
         "0.0",
         "0.0",
         "39",
         "39",
         "1.0",
         "0.0",
         "0.03",
         "0.0",
         "0.0",
         "0.0",
         "0.0",
         "0.0",
         "1"
        ],
        [
         "4",
         "False",
         "True",
         "False",
         "False",
         "False",
         "False",
         "False",
         "False",
         "False",
         "False",
         "False",
         "False",
         "False",
         "False",
         "False",
         "False",
         "False",
         "False",
         "False",
         "False",
         "False",
         "False",
         "False",
         "False",
         "False",
         "True",
         "False",
         "False",
         "False",
         "False",
         "False",
         "False",
         "False",
         "False",
         "False",
         "False",
         "False",
         "False",
         "False",
         "False",
         "False",
         "False",
         "False",
         "False",
         "False",
         "False",
         "False",
         "False",
         "False",
         "False",
         "False",
         "False",
         "False",
         "False",
         "False",
         "False",
         "False",
         "False",
         "False",
         "False",
         "False",
         "False",
         "False",
         "False",
         "False",
         "False",
         "False",
         "False",
         "False",
         "False",
         "False",
         "False",
         "False",
         "False",
         "False",
         "False",
         "False",
         "False",
         "True",
         "False",
         "0",
         "217",
         "2032",
         "0",
         "0",
         "0",
         "0",
         "0",
         "1",
         "0",
         "0",
         "0",
         "0",
         "0",
         "0",
         "0",
         "0",
         "0",
         "0",
         "6",
         "6",
         "0.0",
         "0.0",
         "0.0",
         "0.0",
         "1.0",
         "0.0",
         "0.0",
         "49",
         "49",
         "1.0",
         "0.0",
         "0.02",
         "0.0",
         "0.0",
         "0.0",
         "0.0",
         "0.0",
         "1"
        ]
       ],
       "shape": {
        "columns": 119,
        "rows": 5
       }
      },
      "text/html": [
       "<div>\n",
       "<style scoped>\n",
       "    .dataframe tbody tr th:only-of-type {\n",
       "        vertical-align: middle;\n",
       "    }\n",
       "\n",
       "    .dataframe tbody tr th {\n",
       "        vertical-align: top;\n",
       "    }\n",
       "\n",
       "    .dataframe thead th {\n",
       "        text-align: right;\n",
       "    }\n",
       "</style>\n",
       "<table border=\"1\" class=\"dataframe\">\n",
       "  <thead>\n",
       "    <tr style=\"text-align: right;\">\n",
       "      <th></th>\n",
       "      <th>icmp</th>\n",
       "      <th>tcp</th>\n",
       "      <th>udp</th>\n",
       "      <th>IRC</th>\n",
       "      <th>X11</th>\n",
       "      <th>Z39_50</th>\n",
       "      <th>auth</th>\n",
       "      <th>bgp</th>\n",
       "      <th>courier</th>\n",
       "      <th>csnet_ns</th>\n",
       "      <th>...</th>\n",
       "      <th>dst_host_srv_count</th>\n",
       "      <th>dst_host_same_srv_rate</th>\n",
       "      <th>dst_host_diff_srv_rate</th>\n",
       "      <th>dst_host_same_src_port_rate</th>\n",
       "      <th>dst_host_srv_diff_host_rate</th>\n",
       "      <th>dst_host_serror_rate</th>\n",
       "      <th>dst_host_srv_serror_rate</th>\n",
       "      <th>dst_host_rerror_rate</th>\n",
       "      <th>dst_host_srv_rerror_rate</th>\n",
       "      <th>type</th>\n",
       "    </tr>\n",
       "  </thead>\n",
       "  <tbody>\n",
       "    <tr>\n",
       "      <th>0</th>\n",
       "      <td>False</td>\n",
       "      <td>True</td>\n",
       "      <td>False</td>\n",
       "      <td>False</td>\n",
       "      <td>False</td>\n",
       "      <td>False</td>\n",
       "      <td>False</td>\n",
       "      <td>False</td>\n",
       "      <td>False</td>\n",
       "      <td>False</td>\n",
       "      <td>...</td>\n",
       "      <td>9</td>\n",
       "      <td>1.0</td>\n",
       "      <td>0.0</td>\n",
       "      <td>0.11</td>\n",
       "      <td>0.0</td>\n",
       "      <td>0.0</td>\n",
       "      <td>0.0</td>\n",
       "      <td>0.0</td>\n",
       "      <td>0.0</td>\n",
       "      <td>1</td>\n",
       "    </tr>\n",
       "    <tr>\n",
       "      <th>1</th>\n",
       "      <td>False</td>\n",
       "      <td>True</td>\n",
       "      <td>False</td>\n",
       "      <td>False</td>\n",
       "      <td>False</td>\n",
       "      <td>False</td>\n",
       "      <td>False</td>\n",
       "      <td>False</td>\n",
       "      <td>False</td>\n",
       "      <td>False</td>\n",
       "      <td>...</td>\n",
       "      <td>19</td>\n",
       "      <td>1.0</td>\n",
       "      <td>0.0</td>\n",
       "      <td>0.05</td>\n",
       "      <td>0.0</td>\n",
       "      <td>0.0</td>\n",
       "      <td>0.0</td>\n",
       "      <td>0.0</td>\n",
       "      <td>0.0</td>\n",
       "      <td>1</td>\n",
       "    </tr>\n",
       "    <tr>\n",
       "      <th>2</th>\n",
       "      <td>False</td>\n",
       "      <td>True</td>\n",
       "      <td>False</td>\n",
       "      <td>False</td>\n",
       "      <td>False</td>\n",
       "      <td>False</td>\n",
       "      <td>False</td>\n",
       "      <td>False</td>\n",
       "      <td>False</td>\n",
       "      <td>False</td>\n",
       "      <td>...</td>\n",
       "      <td>29</td>\n",
       "      <td>1.0</td>\n",
       "      <td>0.0</td>\n",
       "      <td>0.03</td>\n",
       "      <td>0.0</td>\n",
       "      <td>0.0</td>\n",
       "      <td>0.0</td>\n",
       "      <td>0.0</td>\n",
       "      <td>0.0</td>\n",
       "      <td>1</td>\n",
       "    </tr>\n",
       "    <tr>\n",
       "      <th>3</th>\n",
       "      <td>False</td>\n",
       "      <td>True</td>\n",
       "      <td>False</td>\n",
       "      <td>False</td>\n",
       "      <td>False</td>\n",
       "      <td>False</td>\n",
       "      <td>False</td>\n",
       "      <td>False</td>\n",
       "      <td>False</td>\n",
       "      <td>False</td>\n",
       "      <td>...</td>\n",
       "      <td>39</td>\n",
       "      <td>1.0</td>\n",
       "      <td>0.0</td>\n",
       "      <td>0.03</td>\n",
       "      <td>0.0</td>\n",
       "      <td>0.0</td>\n",
       "      <td>0.0</td>\n",
       "      <td>0.0</td>\n",
       "      <td>0.0</td>\n",
       "      <td>1</td>\n",
       "    </tr>\n",
       "    <tr>\n",
       "      <th>4</th>\n",
       "      <td>False</td>\n",
       "      <td>True</td>\n",
       "      <td>False</td>\n",
       "      <td>False</td>\n",
       "      <td>False</td>\n",
       "      <td>False</td>\n",
       "      <td>False</td>\n",
       "      <td>False</td>\n",
       "      <td>False</td>\n",
       "      <td>False</td>\n",
       "      <td>...</td>\n",
       "      <td>49</td>\n",
       "      <td>1.0</td>\n",
       "      <td>0.0</td>\n",
       "      <td>0.02</td>\n",
       "      <td>0.0</td>\n",
       "      <td>0.0</td>\n",
       "      <td>0.0</td>\n",
       "      <td>0.0</td>\n",
       "      <td>0.0</td>\n",
       "      <td>1</td>\n",
       "    </tr>\n",
       "  </tbody>\n",
       "</table>\n",
       "<p>5 rows × 119 columns</p>\n",
       "</div>"
      ],
      "text/plain": [
       "    icmp   tcp    udp    IRC    X11  Z39_50   auth    bgp  courier  csnet_ns  \\\n",
       "0  False  True  False  False  False   False  False  False    False     False   \n",
       "1  False  True  False  False  False   False  False  False    False     False   \n",
       "2  False  True  False  False  False   False  False  False    False     False   \n",
       "3  False  True  False  False  False   False  False  False    False     False   \n",
       "4  False  True  False  False  False   False  False  False    False     False   \n",
       "\n",
       "   ...  dst_host_srv_count  dst_host_same_srv_rate  dst_host_diff_srv_rate  \\\n",
       "0  ...                   9                     1.0                     0.0   \n",
       "1  ...                  19                     1.0                     0.0   \n",
       "2  ...                  29                     1.0                     0.0   \n",
       "3  ...                  39                     1.0                     0.0   \n",
       "4  ...                  49                     1.0                     0.0   \n",
       "\n",
       "   dst_host_same_src_port_rate  dst_host_srv_diff_host_rate  \\\n",
       "0                         0.11                          0.0   \n",
       "1                         0.05                          0.0   \n",
       "2                         0.03                          0.0   \n",
       "3                         0.03                          0.0   \n",
       "4                         0.02                          0.0   \n",
       "\n",
       "   dst_host_serror_rate  dst_host_srv_serror_rate  dst_host_rerror_rate  \\\n",
       "0                   0.0                       0.0                   0.0   \n",
       "1                   0.0                       0.0                   0.0   \n",
       "2                   0.0                       0.0                   0.0   \n",
       "3                   0.0                       0.0                   0.0   \n",
       "4                   0.0                       0.0                   0.0   \n",
       "\n",
       "   dst_host_srv_rerror_rate  type  \n",
       "0                       0.0     1  \n",
       "1                       0.0     1  \n",
       "2                       0.0     1  \n",
       "3                       0.0     1  \n",
       "4                       0.0     1  \n",
       "\n",
       "[5 rows x 119 columns]"
      ]
     },
     "execution_count": 4,
     "metadata": {},
     "output_type": "execute_result"
    }
   ],
   "source": [
    "# ==== Pre-processing ====\n",
    "data.loc[data[\"type\"] != \"normal.\", 'type'] = 0\n",
    "data.loc[data[\"type\"] == \"normal.\", 'type'] = 1\n",
    "\n",
    "one_hot_protocol = pd.get_dummies(data[\"protocol_type\"])\n",
    "one_hot_service = pd.get_dummies(data[\"service\"])\n",
    "one_hot_flag = pd.get_dummies(data[\"flag\"])\n",
    "\n",
    "data = data.drop(\"protocol_type\",axis=1)\n",
    "data = data.drop(\"service\",axis=1)\n",
    "data = data.drop(\"flag\",axis=1)\n",
    "    \n",
    "data = pd.concat([one_hot_protocol, one_hot_service,one_hot_flag, data],axis=1)\n",
    "data.head()"
   ]
  },
  {
   "cell_type": "code",
   "execution_count": 5,
   "metadata": {},
   "outputs": [
    {
     "name": "stderr",
     "output_type": "stream",
     "text": [
      "/var/folders/k7/llk3qqcj2lqgt51l1jqw4qw80000gn/T/ipykernel_70518/334419223.py:13: FutureWarning: Setting an item of incompatible dtype is deprecated and will raise in a future error of pandas. Value '[0. 0. 0. ... 0. 0. 0.]' has dtype incompatible with float32, please explicitly cast to a compatible dtype first.\n",
      "  data.loc[:, cols_to_norm] = (data[cols_to_norm] - min_cols) / (max_cols - min_cols)\n",
      "/var/folders/k7/llk3qqcj2lqgt51l1jqw4qw80000gn/T/ipykernel_70518/334419223.py:13: FutureWarning: Setting an item of incompatible dtype is deprecated and will raise in a future error of pandas. Value '[2.61041764e-07 3.44690506e-07 3.38921627e-07 ... 2.92770597e-07\n",
      " 4.19685930e-07 3.15846112e-07]' has dtype incompatible with float32, please explicitly cast to a compatible dtype first.\n",
      "  data.loc[:, cols_to_norm] = (data[cols_to_norm] - min_cols) / (max_cols - min_cols)\n",
      "/var/folders/k7/llk3qqcj2lqgt51l1jqw4qw80000gn/T/ipykernel_70518/334419223.py:13: FutureWarning: Setting an item of incompatible dtype is deprecated and will raise in a future error of pandas. Value '[1.05713002e-03 9.42688423e-05 2.59336301e-04 ... 2.32762574e-04\n",
      " 2.32762574e-04 2.39357513e-04]' has dtype incompatible with float32, please explicitly cast to a compatible dtype first.\n",
      "  data.loc[:, cols_to_norm] = (data[cols_to_norm] - min_cols) / (max_cols - min_cols)\n",
      "/var/folders/k7/llk3qqcj2lqgt51l1jqw4qw80000gn/T/ipykernel_70518/334419223.py:13: FutureWarning: Setting an item of incompatible dtype is deprecated and will raise in a future error of pandas. Value '[0. 0. 0. ... 0. 0. 0.]' has dtype incompatible with float32, please explicitly cast to a compatible dtype first.\n",
      "  data.loc[:, cols_to_norm] = (data[cols_to_norm] - min_cols) / (max_cols - min_cols)\n",
      "/var/folders/k7/llk3qqcj2lqgt51l1jqw4qw80000gn/T/ipykernel_70518/334419223.py:13: FutureWarning: Setting an item of incompatible dtype is deprecated and will raise in a future error of pandas. Value '[0. 0. 0. ... 0. 0. 0.]' has dtype incompatible with float32, please explicitly cast to a compatible dtype first.\n",
      "  data.loc[:, cols_to_norm] = (data[cols_to_norm] - min_cols) / (max_cols - min_cols)\n",
      "/var/folders/k7/llk3qqcj2lqgt51l1jqw4qw80000gn/T/ipykernel_70518/334419223.py:13: FutureWarning: Setting an item of incompatible dtype is deprecated and will raise in a future error of pandas. Value '[0. 0. 0. ... 0. 0. 0.]' has dtype incompatible with float32, please explicitly cast to a compatible dtype first.\n",
      "  data.loc[:, cols_to_norm] = (data[cols_to_norm] - min_cols) / (max_cols - min_cols)\n",
      "/var/folders/k7/llk3qqcj2lqgt51l1jqw4qw80000gn/T/ipykernel_70518/334419223.py:13: FutureWarning: Setting an item of incompatible dtype is deprecated and will raise in a future error of pandas. Value '[0. 0. 0. ... 0. 0. 0.]' has dtype incompatible with float32, please explicitly cast to a compatible dtype first.\n",
      "  data.loc[:, cols_to_norm] = (data[cols_to_norm] - min_cols) / (max_cols - min_cols)\n",
      "/var/folders/k7/llk3qqcj2lqgt51l1jqw4qw80000gn/T/ipykernel_70518/334419223.py:13: FutureWarning: Setting an item of incompatible dtype is deprecated and will raise in a future error of pandas. Value '[0. 0. 0. ... 0. 0. 0.]' has dtype incompatible with float32, please explicitly cast to a compatible dtype first.\n",
      "  data.loc[:, cols_to_norm] = (data[cols_to_norm] - min_cols) / (max_cols - min_cols)\n",
      "/var/folders/k7/llk3qqcj2lqgt51l1jqw4qw80000gn/T/ipykernel_70518/334419223.py:13: FutureWarning: Setting an item of incompatible dtype is deprecated and will raise in a future error of pandas. Value '[0. 0. 0. ... 0. 0. 0.]' has dtype incompatible with float32, please explicitly cast to a compatible dtype first.\n",
      "  data.loc[:, cols_to_norm] = (data[cols_to_norm] - min_cols) / (max_cols - min_cols)\n",
      "/var/folders/k7/llk3qqcj2lqgt51l1jqw4qw80000gn/T/ipykernel_70518/334419223.py:13: FutureWarning: Setting an item of incompatible dtype is deprecated and will raise in a future error of pandas. Value '[0.01565558 0.01565558 0.01565558 ... 0.01174168 0.01174168 0.01174168]' has dtype incompatible with float32, please explicitly cast to a compatible dtype first.\n",
      "  data.loc[:, cols_to_norm] = (data[cols_to_norm] - min_cols) / (max_cols - min_cols)\n",
      "/var/folders/k7/llk3qqcj2lqgt51l1jqw4qw80000gn/T/ipykernel_70518/334419223.py:13: FutureWarning: Setting an item of incompatible dtype is deprecated and will raise in a future error of pandas. Value '[0.01565558 0.01565558 0.01565558 ... 0.03522505 0.02348337 0.06849315]' has dtype incompatible with float32, please explicitly cast to a compatible dtype first.\n",
      "  data.loc[:, cols_to_norm] = (data[cols_to_norm] - min_cols) / (max_cols - min_cols)\n",
      "/var/folders/k7/llk3qqcj2lqgt51l1jqw4qw80000gn/T/ipykernel_70518/334419223.py:13: FutureWarning: Setting an item of incompatible dtype is deprecated and will raise in a future error of pandas. Value '[0.03149606 0.07086614 0.11023622 ... 0.05905512 0.0984252  0.01968504]' has dtype incompatible with float32, please explicitly cast to a compatible dtype first.\n",
      "  data.loc[:, cols_to_norm] = (data[cols_to_norm] - min_cols) / (max_cols - min_cols)\n",
      "/var/folders/k7/llk3qqcj2lqgt51l1jqw4qw80000gn/T/ipykernel_70518/334419223.py:13: FutureWarning: Setting an item of incompatible dtype is deprecated and will raise in a future error of pandas. Value '[0.03149606 0.07086614 0.11023622 ... 1.         1.         1.        ]' has dtype incompatible with float32, please explicitly cast to a compatible dtype first.\n",
      "  data.loc[:, cols_to_norm] = (data[cols_to_norm] - min_cols) / (max_cols - min_cols)\n"
     ]
    }
   ],
   "source": [
    "cols_to_norm = [\"duration\", \"src_bytes\", \"dst_bytes\", \"wrong_fragment\", \"urgent\", \n",
    "            \"hot\", \"num_failed_logins\", \"num_compromised\", \"num_root\", \n",
    "            \"num_file_creations\", \"num_shells\", \"num_access_files\", \"count\", \"srv_count\", \n",
    "            \"serror_rate\", \"srv_serror_rate\", \"rerror_rate\", \"srv_rerror_rate\", \"same_srv_rate\", \n",
    "            \"diff_srv_rate\", \"srv_diff_host_rate\", \"dst_host_count\", \"dst_host_srv_count\", \"dst_host_same_srv_rate\", \n",
    "            \"dst_host_diff_srv_rate\", \"dst_host_same_src_port_rate\", \"dst_host_srv_diff_host_rate\", \n",
    "            \"dst_host_serror_rate\", \"dst_host_srv_serror_rate\", \"dst_host_rerror_rate\", \"dst_host_srv_rerror_rate\" ]\n",
    "\n",
    "min_cols = data.loc[data[\"type\"]==0 , cols_to_norm].min()\n",
    "max_cols = data.loc[data[\"type\"]==0 , cols_to_norm].max()\n",
    "\n",
    "data[cols_to_norm] = data[cols_to_norm].astype(np.float32)\n",
    "data.loc[:, cols_to_norm] = (data[cols_to_norm] - min_cols) / (max_cols - min_cols)\n"
   ]
  },
  {
   "cell_type": "code",
   "execution_count": 6,
   "metadata": {
    "scrolled": true
   },
   "outputs": [],
   "source": [
    "np.savez_compressed(\"kdd_cup\",kdd=data.to_numpy())"
   ]
  },
  {
   "cell_type": "code",
   "execution_count": 7,
   "metadata": {},
   "outputs": [],
   "source": [
    "# ==== Defining Parameters ====\n",
    "class hyperparams():\n",
    "    def __init__(self, config):\n",
    "        self.__dict__.update(**config)\n",
    "defaults = {\n",
    "    'lr' : 1e-4,\n",
    "    'num_epochs' : 10,\n",
    "    'batch_size' : 1024,\n",
    "    'gmm_k' : 4,\n",
    "    'lambda_energy' : 0.1,\n",
    "    'lambda_cov_diag' : 0.005,\n",
    "    'pretrained_model' : None,\n",
    "    'mode' : 'train',\n",
    "    'use_tensorboard' : False,\n",
    "    'data_path' : 'kdd_cup.npz',\n",
    "    'input_dim': 118,\n",
    "\n",
    "    'model_save_path' : './dagmm_test/models',\n",
    "\n",
    "    'sample_step' : 194,\n",
    "    'model_save_step' : 194,\n",
    "\n",
    "    'dist_type': dist_type,     # options: 'gaussian', 'laplace', 'student_t'\n",
    "    'student_nu': student_nu,           # ν value for Student's t-distribution\n",
    "\n",
    "}"
   ]
  },
  {
   "cell_type": "code",
   "execution_count": 8,
   "metadata": {
    "scrolled": false
   },
   "outputs": [
    {
     "name": "stderr",
     "output_type": "stream",
     "text": [
      "100%|██████████| 194/194 [00:02<00:00, 77.55it/s]\n",
      "100%|██████████| 194/194 [00:02<00:00, 82.38it/s]\n",
      "100%|██████████| 194/194 [00:02<00:00, 80.95it/s]\n",
      "100%|██████████| 194/194 [00:02<00:00, 76.56it/s]\n",
      "100%|██████████| 194/194 [00:02<00:00, 79.24it/s]\n",
      "100%|██████████| 194/194 [00:02<00:00, 71.37it/s]\n",
      "100%|██████████| 194/194 [00:02<00:00, 81.68it/s]\n",
      "100%|██████████| 194/194 [00:02<00:00, 72.42it/s]\n",
      "100%|██████████| 194/194 [00:02<00:00, 76.02it/s]\n",
      "100%|██████████| 194/194 [00:02<00:00, 79.40it/s]\n"
     ]
    },
    {
     "name": "stdout",
     "output_type": "stream",
     "text": [
      "Threshold : -13.707174301147461\n",
      "Accuracy : 0.8835, Precision : 0.8619, Recall : 0.7692, F-score : 0.8129\n"
     ]
    }
   ],
   "source": [
    "solver = main(hyperparams(defaults))\n",
    "accuracy, precision, recall, f_score = solver.test()"
   ]
  },
  {
   "cell_type": "code",
   "execution_count": 9,
   "metadata": {},
   "outputs": [],
   "source": [
    "# ==== Train ====\n",
    "solver.data_loader.dataset.mode=\"train\"\n",
    "solver.dagmm.eval()\n",
    "N = 0\n",
    "mu_sum = 0\n",
    "cov_sum = 0\n",
    "gamma_sum = 0\n",
    "\n",
    "for it, (input_data, labels) in enumerate(solver.data_loader):\n",
    "    input_data = solver.to_var(input_data)\n",
    "    enc, dec, z, gamma = solver.dagmm(input_data)\n",
    "    phi, mu, cov = solver.dagmm.compute_gmm_params(z, gamma)\n",
    "    \n",
    "    batch_gamma_sum = torch.sum(gamma, dim=0)\n",
    "    \n",
    "    gamma_sum += batch_gamma_sum\n",
    "    mu_sum += mu * batch_gamma_sum.unsqueeze(-1)\n",
    "    cov_sum += cov * batch_gamma_sum.unsqueeze(-1).unsqueeze(-1)\n",
    "    \n",
    "    N += input_data.size(0)\n",
    "    \n",
    "train_phi = gamma_sum / N\n",
    "train_mu = mu_sum / gamma_sum.unsqueeze(-1)\n",
    "train_cov = cov_sum / gamma_sum.unsqueeze(-1).unsqueeze(-1)"
   ]
  },
  {
   "cell_type": "code",
   "execution_count": 10,
   "metadata": {},
   "outputs": [],
   "source": [
    "train_energy = []\n",
    "train_labels = []\n",
    "train_z = []\n",
    "for it, (input_data, labels) in enumerate(solver.data_loader):\n",
    "    input_data = solver.to_var(input_data)\n",
    "    enc, dec, z, gamma = solver.dagmm(input_data)\n",
    "    sample_energy = solver.dagmm.compute_energy(z, phi=train_phi)\n",
    "    cov_diag = torch.sum(1.0 / solver.dagmm.cov.diagonal(dim1=-2, dim2=-1))\n",
    "\n",
    "    \n",
    "    train_energy.append(sample_energy.data.cpu().numpy())\n",
    "    train_z.append(z.data.cpu().numpy())\n",
    "    train_labels.append(labels.numpy())\n",
    "\n",
    "train_energy = np.concatenate(train_energy,axis=0)\n",
    "train_z = np.concatenate(train_z,axis=0)\n",
    "train_labels = np.concatenate(train_labels,axis=0)"
   ]
  },
  {
   "cell_type": "code",
   "execution_count": 11,
   "metadata": {},
   "outputs": [],
   "source": [
    "# ==== Test ====\n",
    "solver.data_loader.dataset.mode=\"test\"\n",
    "test_energy = []\n",
    "test_labels = []\n",
    "test_z = []\n",
    "for it, (input_data, labels) in enumerate(solver.data_loader):\n",
    "    input_data = solver.to_var(input_data)\n",
    "    enc, dec, z, gamma = solver.dagmm(input_data)\n",
    "    sample_energy = solver.dagmm.compute_energy(z, phi=train_phi)\n",
    "    cov_diag = torch.sum(1.0 / solver.dagmm.cov.diagonal(dim1=-2, dim2=-1))\n",
    "\n",
    "    test_energy.append(sample_energy.data.cpu().numpy())\n",
    "    test_z.append(z.data.cpu().numpy())\n",
    "    test_labels.append(labels.numpy())\n",
    "\n",
    "\n",
    "test_energy = np.concatenate(test_energy,axis=0)\n",
    "test_z = np.concatenate(test_z,axis=0)\n",
    "test_labels = np.concatenate(test_labels,axis=0)"
   ]
  },
  {
   "cell_type": "code",
   "execution_count": 12,
   "metadata": {},
   "outputs": [],
   "source": [
    "combined_energy = np.concatenate([train_energy, test_energy], axis=0)\n",
    "combined_z = np.concatenate([train_z, test_z], axis=0)\n",
    "combined_labels = np.concatenate([train_labels, test_labels], axis=0)"
   ]
  },
  {
   "cell_type": "code",
   "execution_count": 13,
   "metadata": {},
   "outputs": [
    {
     "name": "stdout",
     "output_type": "stream",
     "text": [
      "Threshold : -12.663023948669434\n"
     ]
    }
   ],
   "source": [
    "thresh = np.percentile(combined_energy, 100 - 20)\n",
    "print(\"Threshold :\", thresh)"
   ]
  },
  {
   "cell_type": "code",
   "execution_count": 14,
   "metadata": {},
   "outputs": [],
   "source": [
    "pred = (test_energy>thresh).astype(int)\n",
    "gt = test_labels.astype(int)"
   ]
  },
  {
   "cell_type": "code",
   "execution_count": 15,
   "metadata": {},
   "outputs": [],
   "source": [
    "accuracy = accuracy_score(gt,pred)\n",
    "precision, recall, f_score, support = prf(gt, pred, average='binary')"
   ]
  },
  {
   "cell_type": "code",
   "execution_count": 16,
   "metadata": {},
   "outputs": [
    {
     "name": "stdout",
     "output_type": "stream",
     "text": [
      "Results for gaussian distribution:\n",
      "Accuracy : 0.9135, Precision : 0.8996, Recall : 0.8296, F-score : 0.8632\n"
     ]
    }
   ],
   "source": [
    "print(f\"Results for {dist_type} distribution:\")\n",
    "print(\"Accuracy : {:0.4f}, Precision : {:0.4f}, Recall : {:0.4f}, F-score : {:0.4f}\".format(accuracy,precision, recall, f_score))"
   ]
  }
 ],
 "metadata": {
  "kernelspec": {
   "display_name": "Python 3",
   "language": "python",
   "name": "python3"
  },
  "language_info": {
   "codemirror_mode": {
    "name": "ipython",
    "version": 3
   },
   "file_extension": ".py",
   "mimetype": "text/x-python",
   "name": "python",
   "nbconvert_exporter": "python",
   "pygments_lexer": "ipython3",
   "version": "3.10.6"
  }
 },
 "nbformat": 4,
 "nbformat_minor": 2
}
